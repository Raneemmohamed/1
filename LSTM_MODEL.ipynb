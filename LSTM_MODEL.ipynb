{
  "nbformat": 4,
  "nbformat_minor": 0,
  "metadata": {
    "colab": {
      "provenance": [],
      "authorship_tag": "ABX9TyMCct9hssx3il7l0cpVPiuh",
      "include_colab_link": true
    },
    "kernelspec": {
      "name": "python3",
      "display_name": "Python 3"
    },
    "language_info": {
      "name": "python"
    }
  },
  "cells": [
    {
      "cell_type": "markdown",
      "metadata": {
        "id": "view-in-github",
        "colab_type": "text"
      },
      "source": [
        "<a href=\"https://colab.research.google.com/github/Raneemmohamed/1/blob/main/LSTM_MODEL.ipynb\" target=\"_parent\"><img src=\"https://colab.research.google.com/assets/colab-badge.svg\" alt=\"Open In Colab\"/></a>"
      ]
    },
    {
      "cell_type": "code",
      "execution_count": 6,
      "metadata": {
        "colab": {
          "base_uri": "https://localhost:8080/"
        },
        "id": "7Cf_MuLaUD-5",
        "outputId": "6d2193ad-6632-4823-e151-12219899568f"
      },
      "outputs": [
        {
          "output_type": "stream",
          "name": "stdout",
          "text": [
            "\n",
            " Time 1:\n",
            "   Forget Gate:   sigmoid(0.5000) = 0.6225\n",
            "   Input Gate:    sigmoid(0.6000) = 0.6457\n",
            "   Candidate C_t: tanh(0.7000) = 0.6044\n",
            "   Updated C_t:   0.6225 * 0.0000 + 0.6457 * 0.6044 = 0.3902\n",
            "   Output Gate:   sigmoid(0.8000) = 0.6900\n",
            "   Updated h_t:   0.6900 * tanh(0.3902) = 0.2564\n",
            "\n",
            " Time 2:\n",
            "   Forget Gate:   sigmoid(1.0256) = 0.7361\n",
            "   Input Gate:    sigmoid(1.2513) = 0.7775\n",
            "   Candidate C_t: tanh(1.4769) = 0.9009\n",
            "   Updated C_t:   0.7361 * 0.3902 + 0.7775 * 0.9009 = 0.9877\n",
            "   Output Gate:   sigmoid(1.7025) = 0.8459\n",
            "   Updated h_t:   0.8459 * tanh(0.9877) = 0.6398\n",
            "\n",
            " Time 3:\n",
            "   Forget Gate:   sigmoid(1.5640) = 0.8269\n",
            "   Input Gate:    sigmoid(1.9280) = 0.8730\n",
            "   Candidate C_t: tanh(2.2919) = 0.9798\n",
            "   Updated C_t:   0.8269 * 0.9877 + 0.8730 * 0.9798 = 1.6721\n",
            "   Output Gate:   sigmoid(2.6559) = 0.9344\n",
            "   Updated h_t:   0.9344 * tanh(1.6721) = 0.8707\n",
            "\n",
            " Time 4:\n",
            "   Forget Gate:   sigmoid(2.0871) = 0.8896\n",
            "   Input Gate:    sigmoid(2.5741) = 0.9292\n",
            "   Candidate C_t: tanh(3.0612) = 0.9956\n",
            "   Updated C_t:   0.8896 * 1.6721 + 0.9292 * 0.9956 = 2.4127\n",
            "   Output Gate:   sigmoid(3.5483) = 0.9720\n",
            "   Updated h_t:   0.9720 * tanh(2.4127) = 0.9566\n",
            "\n",
            " Final Prediction: 3.8262\n"
          ]
        }
      ],
      "source": [
        "class LSTM:\n",
        "    def __init__(self, verbose=False):\n",
        "        self.Wf, self.Whf, self.bf = 0.5, 0.1, 0\n",
        "        self.Wi, self.Whi, self.bi = 0.6, 0.2, 0\n",
        "        self.Wc, self.Whc, self.bc = 0.7, 0.3, 0\n",
        "        self.Wo, self.Who, self.bo = 0.8, 0.4, 0\n",
        "\n",
        "        self.h_t = 0\n",
        "        self.C_t = 0\n",
        "        self.verbose = verbose\n",
        "\n",
        "    def sigmoid(self, x):\n",
        "        return 1 / (1 + (2.718281828459045 ** -x))\n",
        "\n",
        "    def tanh(self, x):\n",
        "        exp_pos = (2.718281828459045 ** x)\n",
        "        exp_neg = (2.718281828459045 ** -x)\n",
        "        return (exp_pos - exp_neg) / (exp_pos + exp_neg)\n",
        "\n",
        "    def step(self, x_t):\n",
        "        forget_gate_input = self.Wf * x_t + self.Whf * self.h_t + self.bf\n",
        "        f_t = self.sigmoid(forget_gate_input)\n",
        "\n",
        "        input_gate_input = self.Wi * x_t + self.Whi * self.h_t + self.bi\n",
        "        i_t = self.sigmoid(input_gate_input)\n",
        "\n",
        "        candidate_cell_input = self.Wc * x_t + self.Whc * self.h_t + self.bc\n",
        "        C_t_tilde = self.tanh(candidate_cell_input)\n",
        "\n",
        "        new_C_t = f_t * self.C_t + i_t * C_t_tilde\n",
        "\n",
        "        output_gate_input = self.Wo * x_t + self.Who * self.h_t + self.bo\n",
        "        o_t = self.sigmoid(output_gate_input)\n",
        "\n",
        "        new_h_t = o_t * self.tanh(new_C_t)\n",
        "\n",
        "        if self.verbose:\n",
        "            print(f\"\\n Time {x_t}:\")\n",
        "            print(f\"   Forget Gate:   sigmoid({forget_gate_input:.4f}) = {f_t:.4f}\")\n",
        "            print(f\"   Input Gate:    sigmoid({input_gate_input:.4f}) = {i_t:.4f}\")\n",
        "            print(f\"   Candidate C_t: tanh({candidate_cell_input:.4f}) = {C_t_tilde:.4f}\")\n",
        "            print(f\"   Updated C_t:   {f_t:.4f} * {self.C_t:.4f} + {i_t:.4f} * {C_t_tilde:.4f} = {new_C_t:.4f}\")\n",
        "            print(f\"   Output Gate:   sigmoid({output_gate_input:.4f}) = {o_t:.4f}\")\n",
        "            print(f\"   Updated h_t:   {o_t:.4f} * tanh({new_C_t:.4f}) = {new_h_t:.4f}\")\n",
        "\n",
        "        self.C_t = new_C_t\n",
        "        self.h_t = new_h_t\n",
        "\n",
        "        return self.h_t\n",
        "\n",
        "\n",
        "verbose_mode = True\n",
        "lstm = LSTM(verbose=verbose_mode)\n",
        "\n",
        "inputs = [1, 2, 3, 4]\n",
        "\n",
        "for x_t in inputs:\n",
        "    h_t = lstm.step(x_t)\n",
        "\n",
        "W_y, b_y = 4, 0\n",
        "y_hat = W_y * h_t + b_y\n",
        "print(f\"\\n Final Prediction: {y_hat:.4f}\")\n"
      ]
    },
    {
      "cell_type": "code",
      "source": [],
      "metadata": {
        "id": "nvsB8YhsYZbH"
      },
      "execution_count": null,
      "outputs": []
    }
  ]
}